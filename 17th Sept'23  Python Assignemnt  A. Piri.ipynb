{
 "cells": [
  {
   "cell_type": "code",
   "execution_count": null,
   "id": "3cbdae70-f3a5-4985-957e-75ea20af891c",
   "metadata": {},
   "outputs": [],
   "source": [
    "# ques 1 Write a Python program to print the numbers from 1 to 10 using a `for` loop.\n",
    "range(1,11)\n",
    "for i in range(1,11):\n",
    "    print(i)"
   ]
  },
  {
   "cell_type": "code",
   "execution_count": null,
   "id": "c4f05a9d-97b9-4101-bda7-682eca280501",
   "metadata": {},
   "outputs": [],
   "source": [
    "# ques 2 Create a program that calculates the sum of all numbers in a list using a `for` loop.\n",
    "list=[1,2,3,6,84,77]\n",
    "\n",
    "result=0\n",
    "for i in list:\n",
    "    result=result+i\n",
    "result\n"
   ]
  },
  {
   "cell_type": "code",
   "execution_count": null,
   "id": "04d8191d-bd9a-4046-9c47-0e82842284ac",
   "metadata": {},
   "outputs": [],
   "source": [
    "# ques 3 Write a program to print the characters of a string in reverse order using a `for` loop.\n",
    "def reverse_for_loop(s):\n",
    "    s1 = ''\n",
    "    for c in s:\n",
    "        s1 = c + s1  # appending chars in reverse order\n",
    "    return s1\n",
    "\n",
    "input_str = 'abhijit'\n",
    "\n",
    "if __name__ == \"__main__\":\n",
    "    print('Reverse String using for loop =', reverse_for_loop(input_str))"
   ]
  },
  {
   "cell_type": "code",
   "execution_count": null,
   "id": "9f32b34c-06c7-49e7-8390-54c3e354fd20",
   "metadata": {},
   "outputs": [],
   "source": [
    "# ques 4 Python3 code to iterate over a list\n",
    "list = [1, 3, 5, 7, 9]\n",
    "  \n",
    "# Using for loop\n",
    "for i in list:\n",
    "    print(i)"
   ]
  },
  {
   "cell_type": "code",
   "execution_count": null,
   "id": "7886e2c0-7eb2-4493-96f8-a2dc1e1f857d",
   "metadata": {},
   "outputs": [],
   "source": [
    "# ques 5 Write a Python program to find the product of all elements in a list using a for loop\n",
    "\n",
    "def multiply_numbers(list):\n",
    "    prod = 1\n",
    "    for i in list:\n",
    "        prod = prod*i\n",
    "    return prod\n",
    "given_list = [2,1,3,7,4,85,3]\n",
    "print('The list is:',given_list)\n",
    "print(\"The product is: \")\n",
    "print(multiply_numbers(given_list))"
   ]
  },
  {
   "cell_type": "code",
   "execution_count": null,
   "id": "9d7bcb36-d1d9-4886-92db-c51e6357f800",
   "metadata": {},
   "outputs": [],
   "source": [
    "# ques 6 Create a Python program that prints all even numbers from 1 to 20 using a for loop\n",
    "\n",
    "for even_numbers in range(2,21,2):\n",
    "  \n",
    "    print(even_numbers,end=' ')"
   ]
  },
  {
   "cell_type": "code",
   "execution_count": null,
   "id": "0f2530cf-e3e0-4b4b-9048-c49a8f8994fa",
   "metadata": {},
   "outputs": [],
   "source": [
    "# ques 7 Write a Python program that calculates the factorial of a number using a for loop.\n",
    "def print_squares():\n",
    "    for i in range(2, 9):\n",
    "        square = i ** 2\n",
    "        print(f\"The square of {i} is: {square}\")\n",
    "\n",
    "# Example usage\n",
    "print(\"Squares of numbers from 1 to 10:\")\n",
    "print_squares()"
   ]
  },
  {
   "cell_type": "code",
   "execution_count": null,
   "id": "e07de10d-7c55-4511-b23b-ca5ec339997e",
   "metadata": {},
   "outputs": [],
   "source": [
    "# ques 8 How can you iterate through the characters of a string using a for loop in Python?\n",
    "def find_length_of_string(input_string):\n",
    "    count = 0\n",
    "\n",
    "    for char in input_string:\n",
    "        count += 1\n",
    "\n",
    "    return count\n",
    "\n",
    "# Example usage\n",
    "input_string = \"ajeet, singh!\"\n",
    "length = find_length_of_string(input_string)\n",
    "print(f\"The length of the string is: {length}\")"
   ]
  },
  {
   "cell_type": "code",
   "execution_count": null,
   "id": "af43ea10-7fdc-46d3-9b1f-c5a2f0d8d972",
   "metadata": {},
   "outputs": [],
   "source": [
    "# ques 9  Write a Python program to find the largest number in a list using a for loop.\n",
    "\n",
    "numbers = [1, 2, 3, 5, 9, 6, 101, 88, 66, 6, 101, 55, -1001]\n",
    "maxi = numbers[0]\n",
    "\n",
    "for i in numbers:\n",
    "    if i > maxi:\n",
    "        maxi = i\n",
    "        \n",
    "print(\"Largest number: \", maxi)"
   ]
  },
  {
   "cell_type": "code",
   "execution_count": null,
   "id": "1dcde00a-b10b-4fc5-9012-0f350a4f6694",
   "metadata": {},
   "outputs": [],
   "source": [
    "# ques 10 Create a Python program that prints the Fibonacci sequence up to a specified limit using a for loop.\n",
    "def print_fibonacci(n):\n",
    "    if n <= 0:\n",
    "        print(\"Please enter a positive integer.\")\n",
    "        return\n",
    "\n",
    "    fibonacci_sequence = []\n",
    "    if n >= 1:\n",
    "        fibonacci_sequence.append(0)\n",
    "    if n >= 2:\n",
    "        fibonacci_sequence.append(1)\n",
    "\n",
    "    for i in range(2, n):\n",
    "        next_fibonacci = fibonacci_sequence[-1] + fibonacci_sequence[-2]\n",
    "        fibonacci_sequence.append(next_fibonacci)\n",
    "\n",
    "    print(f\"The first {n} Fibonacci numbers:\")\n",
    "    for num in fibonacci_sequence:\n",
    "        print(num, end=\" \")\n",
    "\n",
    "# Example usage\n",
    "n = 10  # Change this to generate a different number of Fibonacci numbers\n",
    "print_fibonacci(n)"
   ]
  },
  {
   "cell_type": "code",
   "execution_count": null,
   "id": "6b344b72-b691-4846-a27d-15ebd2162ec0",
   "metadata": {},
   "outputs": [],
   "source": [
    "# 11.Write a Python program to count the number of vowels in a given string using a for loop.\n",
    "\n",
    "string = \"We are learning Python\"\n",
    "\n",
    "vowel = 0\n",
    "\n",
    "for char in string:\n",
    "    if char in ['a','e','i','o','u']:\n",
    "        vowel+=1\n",
    "\n",
    "print('Vowel count is :',vowel)"
   ]
  },
  {
   "cell_type": "code",
   "execution_count": null,
   "id": "a9b3f9f4-8f58-411e-9d99-ff02b5bd33bd",
   "metadata": {},
   "outputs": [],
   "source": [
    "# 12. Create a Python program that generates a multiplication table for a given number using a for loop.\n",
    "\n",
    "def print_multiplication_table(number):\n",
    "    for i in range(1, 11):  # Multiplication table from 1 to 10\n",
    "        print(f\"{number} x {i} = {number * i}\")\n",
    "\n",
    "# Example usage\n",
    "number = 5\n",
    "print(f\"Multiplication table for {number}:\")\n",
    "print_multiplication_table(number)"
   ]
  },
  {
   "cell_type": "code",
   "execution_count": null,
   "id": "6822af21-e77a-4333-85a6-bb523d43f4e6",
   "metadata": {},
   "outputs": [],
   "source": [
    "# 13.  Write a Python program to reverse a list using a for loop.\n",
    "\n",
    "input_list = [1,2,3,4,5]\n",
    "\n",
    "#Reverse list\n",
    "reverse_list = []\n",
    "\n",
    "for item in input_list:\n",
    "    reverse_list.insert(0,item)\n",
    "\n",
    "print(reverse_list)"
   ]
  },
  {
   "cell_type": "code",
   "execution_count": null,
   "id": "bd308d5e-a83a-4eb2-b9e6-ea47c6b72bf4",
   "metadata": {},
   "outputs": [],
   "source": [
    "# 14. Write a Python program to find the common elements between two lists using a for loop.\n",
    "list1 = [1,2,3,4,5]\n",
    "list2 = [3,4,5,6,7,8]\n",
    "\n",
    "# Common list\n",
    "common_list = []\n",
    "\n",
    "for item in list1:\n",
    "    if item in list2:\n",
    "        common_list.append(item)\n",
    "\n",
    "print('Common List :',common_list)"
   ]
  },
  {
   "cell_type": "code",
   "execution_count": null,
   "id": "c4da929a-0099-4dbe-b396-ef354f2e420b",
   "metadata": {},
   "outputs": [],
   "source": [
    "# 15. Explain how to use a for loop to iterate through the keys and values of a dictionary in Python.\n",
    "\n",
    "dictionary = {'one':1,'two':2,'three':3,'four':4,'five':5}\n",
    "\n",
    "for key,value in dictionary.items():\n",
    "    print(f'{key} : {value}')\n"
   ]
  },
  {
   "cell_type": "code",
   "execution_count": null,
   "id": "32eac54a-679b-403c-a2cf-6bae99974701",
   "metadata": {},
   "outputs": [],
   "source": [
    "# 16. Write a Python program to find the GCD (Greatest Common Divisor) of two numbers using a for loop.\n",
    "\n",
    "x = 50\n",
    "y = 100\n",
    "if x > y:\n",
    "    x, y = y, x\n",
    "for i in range(1,x+1):\n",
    "    if x%i == 0 and y%i == 0:\n",
    "        gcd = i\n",
    "\n",
    "print(\"GCD of\", x, \"and\", y, \"is:\", gcd)"
   ]
  },
  {
   "cell_type": "code",
   "execution_count": null,
   "id": "289b1e23-8b59-4913-b5f1-a5e3fb55ce37",
   "metadata": {},
   "outputs": [],
   "source": [
    "# 17.Create a Python program that checks if a string is a palindrome using a for loop.\n",
    "text = \"eye\" \n",
    "\n",
    "is_palindrome = True\n",
    "\n",
    "for i in range(len(text) // 2):\n",
    "    if text[i] != text[-i - 1]:\n",
    "        is_palindrome = False\n",
    "        break\n",
    "\n",
    "if is_palindrome:\n",
    "    print(\"It's a palindrome.\")\n",
    "else:\n",
    "    print(\"It's not a palindrome.\")"
   ]
  },
  {
   "cell_type": "code",
   "execution_count": null,
   "id": "8f340e89-d12c-4ad7-a6c8-0c294c09216d",
   "metadata": {},
   "outputs": [],
   "source": [
    "# 18.Write a Python program to remove duplicates from a list using a for loop.\n",
    "\n",
    "my_list = [1,2,3,4,5,6,7,8,9,9,11,15,1,3]\n",
    "\n",
    "\n",
    "## For loop logic to remove duplicate\n",
    "for item in my_list:\n",
    "    if my_list.count(item) > 1:\n",
    "        my_list.remove(item)\n",
    "    \n",
    "## Printing the final list\n",
    "print(my_list)"
   ]
  },
  {
   "cell_type": "code",
   "execution_count": null,
   "id": "58773c41-706c-40f2-94c4-16db21fe2b0f",
   "metadata": {},
   "outputs": [],
   "source": [
    "# 19.Create a Python program that counts the number of words in a sentence using a for loop.\n",
    "string = 'I am Abhijit Piri'\n",
    "\n",
    "# count variable\n",
    "count = 0\n",
    "\n",
    "## split the sentence in word list\n",
    "string_list = string.split()\n",
    "\n",
    "## for looop to count the word\n",
    "for word in string_list:\n",
    "    count +=1\n",
    "\n",
    "# final output\n",
    "print(f\"Number of word in a sentence : {count}\")"
   ]
  },
  {
   "cell_type": "code",
   "execution_count": null,
   "id": "d7696981-be77-4ff5-ac8c-443aac7b3846",
   "metadata": {},
   "outputs": [],
   "source": [
    "# 20.Write a Python program to find the sum of all odd numbers from 1 to 50 using a for loop.\n",
    "total = 0\n",
    "\n",
    "for number in range(1,50):\n",
    "    if number%2 !=0:\n",
    "        total = total + number\n",
    "        \n",
    "print(f\"The sum of all the odd numbers are : {total}\")"
   ]
  },
  {
   "cell_type": "code",
   "execution_count": null,
   "id": "4e4a8f81-e4ce-4e40-b8a7-eecc8ea3a8eb",
   "metadata": {},
   "outputs": [],
   "source": [
    "# 21.Write a Python program that checks if a given year is a leap year using a for loop.\n",
    "\n",
    "def is_leap_year(year: int) -> bool:\n",
    "    '''\n",
    "    Function checks if the year is leap year or not\n",
    "    '''\n",
    "    if year % 4 == 0:\n",
    "        return True\n",
    "    else:\n",
    "        return False\n",
    "    \n",
    "# Take input of year\n",
    "year = int(input('Enter year: '))\n",
    "\n",
    "# Print\n",
    "if is_leap_year(year):\n",
    "    print(f'Year {year} is a leap year.')\n",
    "else:\n",
    "    print(f'Year {year} is a not leap year.')"
   ]
  },
  {
   "cell_type": "code",
   "execution_count": null,
   "id": "0bc5f1e9-ebf0-448d-808a-60d1e08bd5c7",
   "metadata": {},
   "outputs": [],
   "source": [
    "# 22.Create a Python program that calculates the square root of a number using a for loop.\n",
    "\n",
    "def calculate_square_root(number):\n",
    "    \n",
    "    # Check if the number is non-negative\n",
    "    if number < 0:\n",
    "        print(\"Cannot calculate the square root of a negative number.\")\n",
    "    else:\n",
    "        # Initial guess for the square root\n",
    "        probable_sqrt = number / 2.0\n",
    "        \n",
    "        # Number of iterations for approximation - we can adjust this value for accuracy\n",
    "        num_iterations = 10  \n",
    "        \n",
    "        # Use a for loop to iteratively improve the approximation\n",
    "        for _ in range(num_iterations):\n",
    "            probable_sqrt = 0.5 * (probable_sqrt + number / probable_sqrt)\n",
    "            \n",
    "        return probable_sqrt\n",
    "\n",
    "# Take input from user\n",
    "number = int(input('Enter the number:'))\n",
    "\n",
    "# Find sqrt\n",
    "sqrt_of_num = calculate_square_root(number)\n",
    "\n",
    "# Print\n",
    "print(f'Sqrt of the number {number} is : {sqrt_of_num}')"
   ]
  },
  {
   "cell_type": "code",
   "execution_count": null,
   "id": "b9fb8e3e-36fa-4851-a529-cb35f9abee6e",
   "metadata": {},
   "outputs": [],
   "source": [
    "# 23.Write a Python program to find the LCM (Least Common Multiple) of two numbers using a for loop.\n",
    "x = 20\n",
    "y = 25\n",
    "if x > y:\n",
    "    x, y = y, x\n",
    "for i in range(1,x+1):\n",
    "    if x%i == 0 and y%i == 0:\n",
    "        gcd = i\n",
    "\n",
    "lcm = (x*y)/gcd\n",
    "\n",
    "print(\"LCM of\", x, \"and\", y, \"is:\", lcm)"
   ]
  },
  {
   "cell_type": "markdown",
   "id": "bc8a41c2-af1b-4d13-b093-4e5328bf24c0",
   "metadata": {},
   "source": [
    "If else :"
   ]
  },
  {
   "cell_type": "code",
   "execution_count": null,
   "id": "1f7eef90-0862-40ee-b4cc-e36b82c273a1",
   "metadata": {},
   "outputs": [],
   "source": [
    "# 1.Write a Python program to check if a number is positive, negative, or zero using an if-else statement.\n",
    "\n",
    "## Input number assumption\n",
    "number = -1\n",
    "\n",
    "## If else logic for all the three(positive,zero,negative) conditions\n",
    "if number >0:\n",
    "    print(f\"{number} is positive number.\")\n",
    "\n",
    "elif number ==0:\n",
    "    print(f\"{number} is zero.\")\n",
    "    \n",
    "else:\n",
    "    print(f\"{number} is negative number.\")"
   ]
  },
  {
   "cell_type": "code",
   "execution_count": null,
   "id": "06fd5914-dd20-4d7d-9b7e-59cc12c5833d",
   "metadata": {},
   "outputs": [],
   "source": [
    "# 2.Create a Python program that checks if a given number is even or odd using an if-else statement.\n",
    "\n",
    "number = 12\n",
    "\n",
    "if number%2==0:\n",
    "    print(f\"{number} is even number.\")\n",
    "\n",
    "else:\n",
    "    print(f\"{number} is odd number.\")"
   ]
  },
  {
   "cell_type": "code",
   "execution_count": null,
   "id": "e1979034-11f0-4a44-80cc-d16a7a6680fe",
   "metadata": {},
   "outputs": [],
   "source": [
    "# 3. How can you use nested if-else statements in Python, and provide an example?\n",
    "\n",
    "# Nested if-else statements in Python allow you to have if-else statement inside another. \n",
    "# This is useful for situations where you need to make multiple conditional checks when other check is passed.\n",
    "\n",
    "number1,number2,number3 = 1,2,3\n",
    "\n",
    "## Nested if else logic\n",
    "if number1 > number2 :\n",
    "    if number1 > number3:\n",
    "        print(f'Largest number among the three numbers is : {number1}')\n",
    "    else:\n",
    "        print(f'Largest number among the three numbers is : {number3}')\n",
    "\n",
    "else:\n",
    "    if number2 > number3:\n",
    "        print(f'Largest number among the three numbers is : {number2}')\n",
    "    else:\n",
    "        print(f'Largest number among the three number is : {number3}')"
   ]
  },
  {
   "cell_type": "code",
   "execution_count": null,
   "id": "115ec296-3f62-459c-83f7-8bbc74fdc556",
   "metadata": {},
   "outputs": [],
   "source": [
    "# 4.Write a Python program to determine the largest of three numbers using if-else.\n",
    "\n",
    "number1,number2,number3 = 1,2,3\n",
    "\n",
    "## compare the number using if else logic\n",
    "if number1>number2 and number1>number3:\n",
    "    print(f\"{number1} is greater number.\")\n",
    "\n",
    "elif number2> number1 and number2 > number3:\n",
    "    print(f\"{number2} is greater number.\")\n",
    "\n",
    "else:\n",
    "    print(f\"{number3} is greater number.\")\n",
    "    "
   ]
  },
  {
   "cell_type": "code",
   "execution_count": null,
   "id": "8e68016b-8ceb-432b-b0fd-082b3bcf6dbb",
   "metadata": {},
   "outputs": [],
   "source": [
    "# 5.Write a Python program that calculates the absolute value of a number using if-else.\n",
    "\n",
    "number = -1\n",
    "\n",
    "## Code logic for absolute number\n",
    "if number<0:\n",
    "    print(-number)\n",
    "\n",
    "else:\n",
    "    print(number)\n"
   ]
  },
  {
   "cell_type": "code",
   "execution_count": null,
   "id": "8cb464fc-b4bb-4aa3-a3b1-c9b6ac24bad1",
   "metadata": {},
   "outputs": [],
   "source": [
    "# 6.Create a Python program that checks if a given character is a vowel or consonant using if-else.\n",
    "\n",
    "# Assumption of input character\n",
    "character = 'g'\n",
    "​\n",
    "# if else logic for vowel check and else condition\n",
    "if character in 'aeiou':\n",
    "    print(f'{character} is a vowel.')\n",
    "​\n",
    "else:\n",
    "    print(f'{character} is a consonant.')\n",
    "g is a consonant."
   ]
  },
  {
   "cell_type": "code",
   "execution_count": null,
   "id": "70786186-0193-40c7-9dda-0a55f9ca7af7",
   "metadata": {},
   "outputs": [],
   "source": [
    "\n",
    "# 7.Write a Python program to determine if a user is eligible to vote based on their age using if-else.\n",
    "# Assumption on user age input\n",
    "age = 21\n",
    "​\n",
    "## if else logic for age check\n",
    "if age >=18:\n",
    "    print('User is eligible to vote.')\n",
    "​\n",
    "else:\n",
    "    print('User is not eligible to vote.')\n",
    "User is eligible to vote."
   ]
  },
  {
   "cell_type": "code",
   "execution_count": null,
   "id": "df81a9e0-265e-4b24-9262-69d1aad3c54f",
   "metadata": {},
   "outputs": [],
   "source": [
    "#8.Create a Python program that calculates the discount amount based on the purchase amount using if-else.\n",
    "## Range Assumption\n",
    "## Above 500: 2%\n",
    "## Between 500-1000: 5%\n",
    "## Between 1000-5000: 10%\n",
    "## Above 5000: 15%\n",
    "\n",
    "purchase_amount = 3000\n",
    "\n",
    "if purchase_amount >0 and purchase_amount<500:\n",
    "    print(\"Discount is :\",purchase_amount*0.02)\n",
    "\n",
    "elif purchase_amount >500 and purchase_amount < 1000:\n",
    "    print(\"Discount is :\",purchase_amount * 0.05)\n",
    "    \n",
    "elif purchase_amount >1000 and purchase_amount < 5000:\n",
    "    print('Discount is :',purchase_amount * 0.1)\n",
    "    \n",
    "else:\n",
    "    print('Discount is :',purchase_amount*0.15)"
   ]
  },
  {
   "cell_type": "code",
   "execution_count": null,
   "id": "e60c7b0a-034b-4442-90c3-e607df7605ca",
   "metadata": {},
   "outputs": [],
   "source": [
    "# 9.Write a Python program to check if a number is within a specified range using if-else.\n",
    "# Assumption range are 1-10,11-20,21-30,31-40,41-50,51-60,61-70,71-80,81-90,91-100 or above\n",
    "# Input user assumption\n",
    "number = 50\n",
    "\n",
    "if number in range(0,10):\n",
    "    print('Number is in range 0-10.')\n",
    "\n",
    "elif number in range(10,20):\n",
    "    print('Number is in range 10-20.')\n",
    "\n",
    "elif number in range(20,30):\n",
    "    print('Number is in range 20-30.')\n",
    "\n",
    "elif number in range(30,40):\n",
    "    print('Number is in range 30-40.')\n",
    "\n",
    "elif number in range(40,50):\n",
    "    print('Number is in range 40-50.')\n",
    "\n",
    "elif number in range(50,60):\n",
    "    print('Number is in range 50-60.')\n",
    "\n",
    "elif number in range(60,70):\n",
    "    print('Number is in range 60-70.')\n",
    "\n",
    "elif number in range(70,80):\n",
    "    print('Number is in range 70-80.')\n",
    "\n",
    "elif number in range(80,90):\n",
    "    print('Number is in range 80-90.')\n",
    "\n",
    "elif number in range(90,101):\n",
    "    print('Number is in range 90-100.')\n",
    "    \n",
    "else:\n",
    "    print('Number is above 100.')"
   ]
  },
  {
   "cell_type": "code",
   "execution_count": null,
   "id": "fdc3be29-7e5a-4478-a237-d3a4deb94d3b",
   "metadata": {},
   "outputs": [],
   "source": [
    "# 10.Create a Python program that determines the grade of a student based on their score using if-else.\n",
    "## Assumption is above 90- Grade A, Above 80 - Grade B, Above 60 - Grade C and Below 60 is grade D\n",
    "score = 74\n",
    "\n",
    "## Use the if and then elif statement to check for score and then assign grade\n",
    "if score > 90:\n",
    "    print(\" Grade A.\")\n",
    "\n",
    "elif score > 80:\n",
    "    print(\"Grade B.\")\n",
    "\n",
    "elif score > 60:\n",
    "    print(\"Grade C.\")\n",
    "\n",
    "else:\n",
    "    print(\"Grade D.\")"
   ]
  },
  {
   "cell_type": "code",
   "execution_count": null,
   "id": "d6a1d646-6172-403d-97c4-c59077961b5c",
   "metadata": {},
   "outputs": [],
   "source": [
    "# 11.Write a Python program to check if a string is empty or not using if-else.\n",
    "# Assumption of input string\n",
    "string = \"\"\n",
    "\n",
    "## if else check on length of string\n",
    "if len(string) ==0:\n",
    "    print('Empty string.')\n",
    "\n",
    "else:\n",
    "    print('Non-Empty String.')"
   ]
  },
  {
   "cell_type": "code",
   "execution_count": null,
   "id": "df75b3d8-e827-4c15-ba72-315a3272fa1e",
   "metadata": {},
   "outputs": [],
   "source": [
    "# 12.Create a Python program that identifies the type of a triangle (e.g., equilateral, isosceles, or scalene) based on input values using if-else.\n",
    "## Assuming the user input\n",
    "\n",
    "## Assuming the user input\n",
    "side1 = 10\n",
    "side2 = 15\n",
    "side3 = 20\n",
    "\n",
    "## check for equalness for triangle sides\n",
    "if side1 == side2 == side3:\n",
    "    print(\"Equilateral triangle.\")\n",
    "\n",
    "elif side1 == side2 or side2==side3 or side1==side3:\n",
    "    print(\"Isosceles triangle.\")\n",
    "\n",
    "else:\n",
    "    print(\"Scalene Triangle.\")"
   ]
  },
  {
   "cell_type": "code",
   "execution_count": null,
   "id": "69f9fbf5-20c3-40d7-a521-d4676ccd14b1",
   "metadata": {},
   "outputs": [],
   "source": [
    "# 13.Write a Python program to determine the day of the week based on a user-provided number using if-else.\n",
    "## User input\n",
    "day_input =4\n",
    "\n",
    "if day_input ==1:\n",
    "    print(\"Monday\")\n",
    "elif day_input ==2:\n",
    "    print(\"Tuesday\")\n",
    "elif day_input ==3:\n",
    "    print(\"Wednesday\")\n",
    "elif day_input ==4:\n",
    "    print(\"Thursday\")\n",
    "elif day_input ==5:\n",
    "    print(\"Friday\")\n",
    "elif day_input ==6:\n",
    "    print('Saturday')\n",
    "else:\n",
    "    print('Sunday')\n"
   ]
  },
  {
   "cell_type": "code",
   "execution_count": null,
   "id": "10c4ef88-d325-40cc-993a-bacaeb19d121",
   "metadata": {},
   "outputs": [],
   "source": [
    "# 14.Create a Python program that checks if a given year is a leap year using both if-else and a function.\n",
    "# Leap year is a year which is divisible by 4\n",
    "\n",
    "\n",
    "year = int(input('Enter year: '))\n",
    "\n",
    "if year % 4 == 0:\n",
    "    print(f'Year {year} is a leap year.')\n",
    "else:\n",
    "    print(f'Year {year} is a not leap year.')\n"
   ]
  },
  {
   "cell_type": "raw",
   "id": "6957e01d-5441-4380-bf5c-7dfaf8aef117",
   "metadata": {},
   "source": [
    "\n",
    "15.How do you use the \"assert\" statement in Python to add debugging checks within if-else blocks?\n",
    "The assert statement in Python is used to perform debugging checks. It allows you to verify if certain conditions are met at specific points in your code. If the condition is True, the program continues as usual. If it's False, an AssertionError is raised, which can help you identify and debug issues.\n",
    "\n",
    "'assert' is a way to catch logical errors during development, and it's typically disabled in production code for performance reasons.\n",
    "\n",
    "As shown in example in code cell. Result will be error raised."
   ]
  },
  {
   "cell_type": "code",
   "execution_count": null,
   "id": "a3bb4f88-3455-48ce-be3c-4543f3d7fe91",
   "metadata": {},
   "outputs": [],
   "source": [
    "def divide(a, b):\n",
    "    # below code will throw error if b is zero\n",
    "    assert b != 0, \"Division by zero is not allowed!\"\n",
    "    return a / b\n",
    "\n",
    "# Example usage\n",
    "num1 = 10\n",
    "num2 = 0\n",
    "\n",
    "result = divide(num1, num2)\n",
    "print(f\"The result of division is: {result}\")"
   ]
  },
  {
   "cell_type": "code",
   "execution_count": null,
   "id": "92f9bb3e-c41c-436b-a7db-59446b262a2a",
   "metadata": {},
   "outputs": [],
   "source": [
    "# 16.Create a Python program that determines the eligibility of a person for a senior citizen discount based on age using if-else.\n",
    "# Senior citizen age assumption is 60 or above.\n",
    "\n",
    "age = 77\n",
    "\n",
    "if age >=60:\n",
    "    print('Senior Citizen.')\n",
    "\n",
    "else:\n",
    "    print('Not a senior citizen.')\n"
   ]
  },
  {
   "cell_type": "code",
   "execution_count": null,
   "id": "431ae635-df5a-42cc-a381-b7269606c728",
   "metadata": {},
   "outputs": [],
   "source": [
    "# 17.Write a Python program to categorize a given character as uppercase, lowercase, or neither using if-else.\n",
    "char = '@'\n",
    "\n",
    "if char.isupper():\n",
    "    print('Uppercase')\n",
    "\n",
    "elif char.islower():\n",
    "    print('Lowercase')\n",
    "\n",
    "else:\n",
    "    print('Special Character')"
   ]
  },
  {
   "cell_type": "code",
   "execution_count": null,
   "id": "99c7d131-34b8-4e6a-8bfb-8d280625a1d6",
   "metadata": {},
   "outputs": [],
   "source": [
    "# 18.Write a Python program to determine the roots of a quadratic equation using if-else.\n",
    "\n",
    "import math\n",
    "import cmath\n",
    "# Using cmath - to get the complex number (from negative sqaure root)\n",
    "\n",
    "# Function - prints the roots and related info\n",
    "def print_roots_of_quadratic_equation(a, b, c):\n",
    "    if a == 0:\n",
    "        print('Not a valid Quadratic equation.')\n",
    "    else:\n",
    "        # D = b2 - 4ac\n",
    "        D = (b ** 2) - (4 * a * c)\n",
    "\n",
    "        if D == 0:\n",
    "            root = (-b  / (2 * a))\n",
    "            print('Roots are real and same.')\n",
    "            print(f'x = {root}')\n",
    "        elif D > 0:\n",
    "            square_root_D = math.sqrt(D)\n",
    "            root1 = (-b + square_root_D)/(2 * a)\n",
    "            root2 = (-b - square_root_D)/(2 * a)\n",
    "            print('Roots are real and different.')\n",
    "            print(f'x = {root1} or x = {root2}')\n",
    "        else:\n",
    "            square_root_D = cmath.sqrt(D)\n",
    "            root1 = (-b + square_root_D)/(2 * a)\n",
    "            root2 = (-b - square_root_D)/(2 * a)\n",
    "            print('Roots are complex.')\n",
    "            print(f'x = {root1} or x = {root2}')\n",
    "\n",
    "\n",
    "# Compute and print result\n",
    "print_roots_of_quadratic_equation(1, 5, 7)"
   ]
  },
  {
   "cell_type": "code",
   "execution_count": null,
   "id": "83eab7f9-e3b0-407e-9dbc-869c3ec57916",
   "metadata": {},
   "outputs": [],
   "source": [
    "# 19.Create a Python program that checks if a given year is a century year or not using if-else.\n",
    "# Input year assumption\n",
    "year = 1000\n",
    "\n",
    "# Logic for the century year\n",
    "if year%100==0:\n",
    "    print(f'{year} is a century year.')\n",
    "\n",
    "else:\n",
    "    print(f'{year} is not a century year.')"
   ]
  },
  {
   "cell_type": "code",
   "execution_count": null,
   "id": "84aeca3b-6dda-447a-9c98-8f5dd670857d",
   "metadata": {},
   "outputs": [],
   "source": [
    "# 20.Write a Python program to determine if a given number is a perfect square using if-else.\n",
    "# Input number assumption\n",
    "number1 = 4\n",
    "number2 = 20\n",
    "number3 = 16\n",
    "\n",
    "# logic for check for perfect square check\n",
    "def perfect_square_check(number):\n",
    "    \n",
    "    sqrt = int(number **0.5)\n",
    "    \n",
    "    if sqrt **2 == number:\n",
    "        print(f'{number} is a perfect square,')\n",
    "    \n",
    "    else:\n",
    "        print(f'{number} is not a perfect square.')\n",
    "\n",
    "## Function call for check\n",
    "perfect_square_check(number1)\n",
    "perfect_square_check(number2)\n",
    "perfect_square_check(number3)"
   ]
  },
  {
   "cell_type": "markdown",
   "id": "02be59e8-0753-449d-a797-54aa7d8337cf",
   "metadata": {},
   "source": [
    "21.Explain the purpose of the \"continue\" and \"break\" statements within if-else loops.\n",
    "The 'continue' and 'break' statements are control flow statements in Python that alter the flow of execution in loops (example for and while loops) and conditional statements (if-else blocks).\n",
    "\n",
    "Continue Statement:\n",
    "The continue statement is used to skip the rest of the loop's code for the current iteration, and to move on to the next iteration.\n",
    "\n",
    "Break Statement:\n",
    "The break statement is used to exist a loop immediately and prematurely, even if the loop condition is still true.\n",
    "\n",
    "Examples are avaible below:"
   ]
  },
  {
   "cell_type": "code",
   "execution_count": null,
   "id": "ec280d06-65ed-48e2-bec2-703c0763ee86",
   "metadata": {},
   "outputs": [],
   "source": [
    "# Below code print 0 to 4 and skip 3\n",
    "for i in range(5):\n",
    "    if i == 3:\n",
    "        continue\n",
    "    print(i)"
   ]
  },
  {
   "cell_type": "code",
   "execution_count": null,
   "id": "e261b5ba-9f9f-4b2a-9a88-85353e0205a2",
   "metadata": {},
   "outputs": [],
   "source": [
    "#Below code is prints 0 to 2 and break after 2\n",
    "for i in range(5):\n",
    "    if i == 3:\n",
    "        break\n",
    "    print(i)"
   ]
  },
  {
   "cell_type": "code",
   "execution_count": null,
   "id": "4b2a2454-da28-4e62-9b40-fe482a85390d",
   "metadata": {},
   "outputs": [],
   "source": [
    "# 22.Create a Python program that calculates the BMI (Body Mass Index) of a person based on their weight and height using if-else.\n",
    "## Define the function to calculate the BMI\n",
    "def calculate_bmi(weight,height):\n",
    "    return weight/(height**2)\n",
    "\n",
    "def health_recommendation(bmi):\n",
    "    if bmi < 18.5:\n",
    "        return \"You are underweight\"\n",
    "    elif 18.5 <= bmi <24.9:\n",
    "        return \"Your BMI is within the healthy range\"\n",
    "    elif 25 <=bmi < 29.9:\n",
    "        return \"You are overweight\"\n",
    "    else:\n",
    "        return \"You are obese\"\n",
    "\n",
    "#Take the user input\n",
    "weight = float(input(\"Enter the weight in kgs : \"))\n",
    "height = float(input(\"Enter the height in meters: \"))\n",
    "\n",
    "#Calculate the BMI\n",
    "bmi = calculate_bmi(weight,height)\n",
    "\n",
    "# Display the BMI and recommendations\n",
    "print(f'Your BMI is : {bmi}')\n",
    "print(health_recommendation(bmi))"
   ]
  },
  {
   "cell_type": "code",
   "execution_count": null,
   "id": "4211ff01-57c6-42be-afc7-2f655637016e",
   "metadata": {},
   "outputs": [],
   "source": [
    "# 23.How can you use the \"filter()\" function with if-else statements to filter elements from a list?\n",
    "# we will filter out the profits that are greater than or equal to 100. \n",
    "\n",
    "profits = [200, 400, 90, 50, 20, 150]\n",
    "\n",
    "filtered_profits = []\n",
    "\n",
    "for p in profits:\n",
    "    if p >= 100:\n",
    "        filtered_profits.append(p)\n",
    "\n",
    "print(filtered_profits)"
   ]
  },
  {
   "cell_type": "code",
   "execution_count": null,
   "id": "28f836b3-fdfb-4c59-a781-1b628f6bcf54",
   "metadata": {},
   "outputs": [],
   "source": [
    "# 24.Write a Python program to determine if a given number is prime or not using if-else.\n",
    "import math\n",
    "# Input number assumption\n",
    "number = 11\n",
    "\n",
    "# check for prime conditions\n",
    "\n",
    "if number<=1:\n",
    "    print(f'{number} is not prime.')\n",
    "\n",
    "else:\n",
    "    range_num = math.floor(number/2) + 1\n",
    "    for i in range(2,range_num):\n",
    "        if (number%i == 0):\n",
    "            print(f'{number} is not a prime number')\n",
    "        \n",
    "    print(f'{number} is  a prime number')"
   ]
  },
  {
   "cell_type": "markdown",
   "id": "beb5c2e0-c1a2-41eb-abc4-2030309379fd",
   "metadata": {},
   "source": [
    "Map :-\n",
    "1.Explain the purpose of the map() function in Python and provide an example of how it can be used to apply a function to each element of an iterable.\n",
    "The map() function in python is used to apply a specified function to every element in an iterable(like a list) and return a new iterable containing the result of the function applied to each element.\n",
    "\n",
    "Example are shown in below code:"
   ]
  },
  {
   "cell_type": "code",
   "execution_count": 1,
   "id": "0e445208-df24-4054-ac0c-bf4db9367f96",
   "metadata": {},
   "outputs": [
    {
     "name": "stdout",
     "output_type": "stream",
     "text": [
      "[1, 4, 9, 16, 25, 36, 49, 64, 81]\n"
     ]
    }
   ],
   "source": [
    "# Number list \n",
    "number = [1,2,3,4,5,6,7,8,9]\n",
    "\n",
    "# function to square a number\n",
    "def square_number(n):\n",
    "    return n**2\n",
    "\n",
    "# Apply a function using map to every element of number list\n",
    "square_list = list(map(square_number,number))\n",
    "\n",
    "print(square_list)"
   ]
  },
  {
   "cell_type": "code",
   "execution_count": 2,
   "id": "68c8c820-0d8e-46ee-83b5-a529dac9af87",
   "metadata": {},
   "outputs": [
    {
     "name": "stdout",
     "output_type": "stream",
     "text": [
      "[1, 4, 9, 16, 25, 36, 49, 64, 81, 100]\n"
     ]
    }
   ],
   "source": [
    "# 2.Write a Python program that uses the map() function to square each element of a list of numbers.\n",
    "number = [1,2,3,4,5,6,7,8,9,10]\n",
    "\n",
    "# Map function to get square\n",
    "square = list(map( lambda x: x*x , number))\n",
    "\n",
    "print(square)\n"
   ]
  },
  {
   "cell_type": "markdown",
   "id": "24c274c2-0bcf-4941-985d-6fe6b30855ef",
   "metadata": {},
   "source": [
    "3.How can you use nested if-else statements in Python, and provide an example?\n",
    "Nested if-else statements in Python allow you to have if-else statement inside another. This is useful for situations where you need to make multiple conditional checks when other check is passed.\n",
    "\n",
    "For example, we can use the nested if-else statements to find the largest of three numbers"
   ]
  },
  {
   "cell_type": "code",
   "execution_count": null,
   "id": "894d1a3a-673d-404a-a8e2-83e74840213d",
   "metadata": {},
   "outputs": [],
   "source": [
    "\n",
    "number1,number2,number3 = 4,5,6\n",
    "\n",
    "## Nested if else logic\n",
    "if number1 > number2 :\n",
    "    if number1 > number3:\n",
    "        print(f'Largest number among the three numbers is : {number1}')\n",
    "    else:\n",
    "        print(f'Largest number among the three numbers is : {number3}')\n",
    "\n",
    "else:\n",
    "    if number2 > number3:\n",
    "        print(f'Largest number among the three numbers is : {number2}')\n",
    "    else:\n",
    "        print(f'Largest number among the three number is : {number3}')"
   ]
  },
  {
   "cell_type": "code",
   "execution_count": null,
   "id": "4000fa2b-5a59-43e6-956b-2aa5313196e2",
   "metadata": {},
   "outputs": [],
   "source": [
    "# 4.Create a Python program that uses the map() function to convert a list of names to uppercase.\n",
    "# Name list assumption\n",
    "name_list = ['ram','shyam','radha','sita']\n",
    "\n",
    "# Uppercase change\n",
    "function = lambda name : str.upper(name)\n",
    "\n",
    "uppercase = list(map(function,name_list))\n",
    "\n",
    "print(uppercase)"
   ]
  },
  {
   "cell_type": "code",
   "execution_count": null,
   "id": "a8051afe-a316-4d4c-91d9-0b1f91002cbc",
   "metadata": {},
   "outputs": [],
   "source": [
    "# 5.Write a Python program that uses the map() function to calculate the length of each word in a list of strings.\n",
    "# Name list assumption\n",
    "name_list = ['ram','shyam','radha','sita']\n",
    "\n",
    "# Length function\n",
    "function = lambda x : len(x)\n",
    "\n",
    "len_list = list(map(function,name_list))\n",
    "\n",
    "print(len_list)"
   ]
  },
  {
   "cell_type": "code",
   "execution_count": null,
   "id": "96511dfb-23e3-430b-8c2e-ab760faac9ae",
   "metadata": {},
   "outputs": [],
   "source": [
    "# 6.How can you use the map() function to apply a custom function to elements of multiple lists simultaneously in Python?\n",
    "# Function to add the number\n",
    "def add(a,b):\n",
    "    return a+b\n",
    "\n",
    "# Create a list\n",
    "list1= [1,2,3,4,5]\n",
    "list2 = [1,2,3,4,5]\n",
    "\n",
    "## Apply custom function on given lists\n",
    "result = list(map(add, list1,list2))\n",
    "\n",
    "print(result)\n",
    "[2, 4, 6, 8, 10]"
   ]
  },
  {
   "cell_type": "code",
   "execution_count": null,
   "id": "b1b5a617-4b6d-4474-a876-409e71479b2c",
   "metadata": {},
   "outputs": [],
   "source": [
    "# 7.Create a Python program that uses map() to convert a list of temperatures from Celsius to Fahrenheit.\n",
    "# Input list assumption\n",
    "celsius = [10,20,30,40,50]\n",
    "\n",
    "# Logic from celsius to fahrenheit\n",
    "function = lambda x : (x * (9/5)) +32\n",
    "\n",
    "fahrenheit_list = list(map(function,celsius))\n",
    "\n",
    "print(fahrenheit_list)"
   ]
  },
  {
   "cell_type": "markdown",
   "id": "a6ac1c47-7ac4-49b2-aa3f-9ca688e2fc1c",
   "metadata": {},
   "source": [
    "Reduce :-\n",
    "1.What is the reduce() function in Python, and what module should you import to use it? Provide an example of its basic usage.\n",
    "The reduce function in Python is a built-in function provided by the functools module. It is used to apply a specified function to an iterable (e.g. a list) cumulatively to reduce it to a single value.\n",
    "\n",
    "To use the reduce function, we need to import it from the functools module.\n",
    "\n",
    "Example of the basic usage on reduce function:"
   ]
  },
  {
   "cell_type": "code",
   "execution_count": null,
   "id": "2f8f8cd2-08ab-4d13-ba23-24c156916105",
   "metadata": {},
   "outputs": [],
   "source": [
    "from functools import reduce\n",
    "\n",
    "#number list\n",
    "number = [1,2,3,4,5]\n",
    "\n",
    "# Function to add two number\n",
    "def add(x,y): \n",
    "    return x+y\n",
    "\n",
    "# Use reduce to apply the function to the list\n",
    "result = reduce(add,number)\n",
    "\n",
    "print(result)\n"
   ]
  },
  {
   "cell_type": "code",
   "execution_count": null,
   "id": "adc75392-f657-4495-8d76-808439e68804",
   "metadata": {},
   "outputs": [],
   "source": [
    "# 2.Write a Python program that uses the reduce() function to find the product of all elements in a list.\n",
    "from functools import reduce\n",
    "\n",
    "#Input list assumption\n",
    "number_list = [1,2,3,4]\n",
    "\n",
    "product = reduce((lambda x,y : x*y),number_list)\n",
    "\n",
    "print(product)\n"
   ]
  },
  {
   "cell_type": "code",
   "execution_count": null,
   "id": "459cb247-8a76-4452-bb88-7da956181225",
   "metadata": {},
   "outputs": [],
   "source": [
    "# 3.Create a Python program that uses reduce() to find the maximum element in a list of numbers.\n",
    "# Import reduce function\n",
    "from functools import reduce\n",
    "\n",
    "# Create a list of number\n",
    "number =[1,2,5,3,4]\n",
    "\n",
    "#Maximum number\n",
    "max_num = reduce(lambda x,y: x if x>y else y, number)\n",
    "\n",
    "print(max_num)"
   ]
  },
  {
   "cell_type": "code",
   "execution_count": null,
   "id": "2575e62f-14b9-42d2-b6c0-8b27bb47b38f",
   "metadata": {},
   "outputs": [],
   "source": [
    "# 4.How can you use the reduce() function to concatenate a list of strings into a single string?\n",
    "# Import reduce function\n",
    "from functools import reduce\n",
    "\n",
    "# Create a list of string\n",
    "string = ['I','am','learning','a','Data','Science']\n",
    "\n",
    "# Concate\n",
    "concatenated = reduce(lambda x,y: x+\" \"+y,string)\n",
    "\n",
    "print(concatenated)"
   ]
  },
  {
   "cell_type": "code",
   "execution_count": null,
   "id": "dd0ab02c-249d-457b-b065-47657e452e0d",
   "metadata": {},
   "outputs": [],
   "source": [
    "# 5.Write a Python program that calculates the factorial of a number using the reduce() function.\n",
    "# Import reduce function\n",
    "from functools import reduce\n",
    "\n",
    "#number input assumption\n",
    "number = 5\n",
    "\n",
    "#Reduce function\n",
    "def factorial(n):\n",
    "    return reduce(lambda x,y:x*y,range(1,n+1))\n",
    "\n",
    "result = factorial(number)\n",
    "\n",
    "print(result)"
   ]
  },
  {
   "cell_type": "code",
   "execution_count": null,
   "id": "b9d1f8b6-6512-49b9-9073-25a30a9463f0",
   "metadata": {},
   "outputs": [],
   "source": [
    "# 6.Create a Python program that uses reduce() to find the GCD (Greatest Common Divisor) of a list of numbers.\n",
    "# Import the reduce function\n",
    "from functools import reduce\n",
    "\n",
    "# GCD function\n",
    "def gcd(a,b):\n",
    "    while b:\n",
    "        a,b = b,a%b\n",
    "    return a \n",
    "\n",
    "def gcd_of_list(numbers):\n",
    "    return reduce(gcd,numbers)\n",
    "\n",
    "# Create a list of numbers\n",
    "numbers = [24,36,48,60]\n",
    "\n",
    "# Calculate GCD\n",
    "result = gcd_of_list(numbers)\n",
    "\n",
    "print(f'The GCD of {numbers} is : {result}')\n",
    "The GCD of [24, 36, 48, 60] is : 12"
   ]
  },
  {
   "cell_type": "code",
   "execution_count": 5,
   "id": "6953c2c1-1e2d-407a-b19a-a4c89447d15d",
   "metadata": {},
   "outputs": [
    {
     "name": "stdout",
     "output_type": "stream",
     "text": [
      "The sum of digits in 123456 is : 21\n"
     ]
    }
   ],
   "source": [
    "# 7.Write a Python program that uses the reduce() function to find the sum of the digits of a given number.\n",
    "# Import reduce function\n",
    "from functools import reduce\n",
    "\n",
    "# Add function\n",
    "def add(a,b):\n",
    "    return a+b\n",
    "\n",
    "def sum_of_digits(number):\n",
    "    digits = map(int,str(number))\n",
    "    return reduce(add,digits)\n",
    "\n",
    "# number input assumption\n",
    "number = 123456\n",
    "\n",
    "# Result\n",
    "result = sum_of_digits(number)\n",
    "\n",
    "print(f'The sum of digits in {number} is : {result}')"
   ]
  },
  {
   "cell_type": "markdown",
   "id": "b441c79e-80ea-4855-98ff-ca93e57174e2",
   "metadata": {},
   "source": [
    "Filter :\n",
    "1.Explain the purpose of the filter() function in Python and provide an example of how it can be used to filter elements from an iterable.\n",
    "The filter function is used to filter elements from an iterable (like a list) based on a specified condition. It takes two arguments: a function and an iterable. The function you pass to filter should return True for the elements we want to keep.\n",
    "\n",
    "Example of filter function:"
   ]
  },
  {
   "cell_type": "code",
   "execution_count": null,
   "id": "ec12f390-49c2-4ba4-acdf-2aa51da559f5",
   "metadata": {},
   "outputs": [],
   "source": [
    "number = [1,2,3,4,5,6,7,8,9]\n",
    "\n",
    "## Function to check for even conditions\n",
    "def is_even(a):\n",
    "    if a %2 == 0:\n",
    "        return True\n",
    "    \n",
    "even_numbers = filter(is_even,number)\n",
    "\n",
    "print(list(even_numbers))"
   ]
  },
  {
   "cell_type": "code",
   "execution_count": 2,
   "id": "7aed0c12-e9e0-4725-8afc-49c1ce0327eb",
   "metadata": {},
   "outputs": [
    {
     "name": "stdout",
     "output_type": "stream",
     "text": [
      "[2, 4, 6, 8]\n"
     ]
    }
   ],
   "source": [
    "# 2.Write a Python program that uses the filter() function to select even numbers from a list of integers.\n",
    "# Number list\n",
    "number = [1,2,3,4,5,6,7,8,9]\n",
    "\n",
    "## Function to check for even conditions\n",
    "def is_even(a):\n",
    "    if a %2 == 0:\n",
    "        return True\n",
    "    \n",
    "even_numbers = filter(is_even,number)\n",
    "\n",
    "print(list(even_numbers))"
   ]
  },
  {
   "cell_type": "code",
   "execution_count": 3,
   "id": "2e1b93ce-7b0e-4550-8fdd-cf0125484b41",
   "metadata": {},
   "outputs": [
    {
     "name": "stdout",
     "output_type": "stream",
     "text": [
      "['Abhijit', 'Akash']\n"
     ]
    }
   ],
   "source": [
    "\n",
    "# 3.Create a Python program that uses the filter() function to select names that start with a specific letter from a list of strings.\n",
    "# Name list\n",
    "names = ['Abhijit','Akash','Ram','Shyam','Rohit','Vineet']\n",
    "\n",
    "## Function to check if name is starting with specific letter\n",
    "def start_with_letter(letter, name):\n",
    "    return name.startswith(letter)\n",
    "\n",
    "# Specific letter\n",
    "specific_letter = 'A'\n",
    "\n",
    "selected_names = filter(lambda name: start_with_letter(specific_letter,name),names)\n",
    "\n",
    "print(list(selected_names))"
   ]
  },
  {
   "cell_type": "code",
   "execution_count": 4,
   "id": "7ee85ed4-2713-42ec-af50-df15f4f6b5c5",
   "metadata": {},
   "outputs": [
    {
     "name": "stdout",
     "output_type": "stream",
     "text": [
      "[7, 5, 23, 11]\n"
     ]
    }
   ],
   "source": [
    "\n",
    "# 4.Write a Python program that uses the filter() function to select prime numbers from a list of integers.\n",
    "import math\n",
    "\n",
    "#Function to check if number is prime\n",
    "def is_prime(n):\n",
    "    if n<=1:\n",
    "        return False\n",
    "    \n",
    "    range_num = math.floor(n/2) + 1\n",
    "    \n",
    "    for i in range(2, range_num):\n",
    "        \n",
    "        if(n%i == 0):\n",
    "            return False\n",
    "        \n",
    "    return True\n",
    "\n",
    "#Create a list of numbers \n",
    "list_of_numbers = [8,7,5,91,93,21,23,11]\n",
    "\n",
    "# Filter list of prime numbers from given list\n",
    "prime_nums = filter(is_prime,list_of_numbers)\n",
    "\n",
    "print(list(prime_nums))"
   ]
  },
  {
   "cell_type": "code",
   "execution_count": 5,
   "id": "a3581060-08a5-4971-8603-854fdc84314f",
   "metadata": {},
   "outputs": [
    {
     "name": "stdout",
     "output_type": "stream",
     "text": [
      "[1, 2, 3, 4, 5, 'Abhijit']\n"
     ]
    }
   ],
   "source": [
    "# 5.How can you use the filter() function to remove None values from a list in Python?\n",
    "# Create a list\n",
    "input_list = [1,2,3,None,4,5,None,'Abhijit', None]\n",
    "\n",
    "# Filter the list\n",
    "non_none_value = filter(lambda x : x!=None,input_list)\n",
    "\n",
    "print(list(non_none_value))"
   ]
  },
  {
   "cell_type": "code",
   "execution_count": 7,
   "id": "cedebd3c-3b65-4f3b-8c4c-e7b6d6892a58",
   "metadata": {},
   "outputs": [
    {
     "name": "stdout",
     "output_type": "stream",
     "text": [
      "['Abhijit']\n"
     ]
    }
   ],
   "source": [
    "# 6.Create a Python program that uses filter() to select words longer than a certain length from a list of strings.\n",
    "# input list\n",
    "names = ['Abhijit','Akash','Ram','Shyam','Rohit','Vineet']\n",
    "# Define a length\n",
    "length = 6\n",
    "\n",
    "name_obj = filter(lambda x : len(x)>6, names)\n",
    "\n",
    "print(list(name_obj))"
   ]
  },
  {
   "cell_type": "code",
   "execution_count": 8,
   "id": "e10ddb8e-e2d8-4dc2-b68d-1d05b0d63926",
   "metadata": {},
   "outputs": [
    {
     "name": "stdout",
     "output_type": "stream",
     "text": [
      "[5, 6, 7, 8, 9]\n"
     ]
    }
   ],
   "source": [
    "# 7.Write a Python program that uses the filter() function to select elements greater than a specified threshold from a list of values.\n",
    "# Number list\n",
    "numbers = [1,2,3,4,5,6,7,8,9]\n",
    "\n",
    "# threshold\n",
    "threshold = 4\n",
    "\n",
    "filter_num = filter(lambda x : x > threshold, numbers)\n",
    "\n",
    "print(list(filter_num))"
   ]
  },
  {
   "cell_type": "markdown",
   "id": "241eae8b-533f-46a5-99fe-87b229b168e2",
   "metadata": {},
   "source": [
    "Recursion:-\n",
    "1.Explain the concept of recursion in Python. How does it differ from iteration?\n",
    "Recursion and Iteration are two different approaches to solving problems in programming.\n",
    "\n",
    "Recursion:\n",
    "Recursion is a technique in which a function calls itself in order to accomplish a specific task. It involves breaking down a problem into smaller, similar subproblems and solving them recursively. Recursion relies on the fact that a function can call itself to solve a smaller version of the same problem.\n",
    "\n",
    "Iteration:\n",
    "Iteration on the other hand is a process of repeatedly executing a set of statements using loops. Here we use loops(ex. for and while loops) to perform a specific set of statements untill a condition is met.\n",
    "\n",
    "Example code of recursion is given below:"
   ]
  },
  {
   "cell_type": "code",
   "execution_count": null,
   "id": "2c2f0f5e-8fd0-4c44-bedf-514e020f2900",
   "metadata": {},
   "outputs": [],
   "source": [
    "def factorical(n):\n",
    "    if n==0:\n",
    "        return 1\n",
    "    else:\n",
    "        return n* factorical(n-1)\n",
    "    \n",
    "factorical(5)"
   ]
  },
  {
   "cell_type": "code",
   "execution_count": 9,
   "id": "522d2560-0148-445f-9bf0-b36cdad2684c",
   "metadata": {},
   "outputs": [
    {
     "data": {
      "text/plain": [
       "120"
      ]
     },
     "execution_count": 9,
     "metadata": {},
     "output_type": "execute_result"
    }
   ],
   "source": [
    "# 2.Write a Python program to calculate the factorial of a number using recursion.\n",
    "def factorical(n):\n",
    "    if n==0:\n",
    "        return 1\n",
    "    else:\n",
    "        return n* factorical(n-1)\n",
    "    \n",
    "factorical(5)"
   ]
  },
  {
   "cell_type": "code",
   "execution_count": 10,
   "id": "c59da8fe-be22-4858-8b98-f41de50c4f84",
   "metadata": {},
   "outputs": [
    {
     "name": "stdout",
     "output_type": "stream",
     "text": [
      "55\n"
     ]
    }
   ],
   "source": [
    "# 3.Create a recursive Python function to find the nth Fibonacci number.\n",
    "def fibonacci_number(position):\n",
    "    if position <=1:\n",
    "        return position\n",
    "    else:\n",
    "        return fibonacci_number(position-1) + fibonacci_number(position-2)\n",
    "    \n",
    "# Define position\n",
    "pos = 10\n",
    "\n",
    "# Calculate fibonnaci number\n",
    "result = fibonacci_number(pos)\n",
    "\n",
    "print(result)\n"
   ]
  },
  {
   "cell_type": "code",
   "execution_count": 11,
   "id": "10f26453-2edd-4f76-85bc-debf1551a050",
   "metadata": {},
   "outputs": [
    {
     "name": "stdout",
     "output_type": "stream",
     "text": [
      "45\n"
     ]
    }
   ],
   "source": [
    "# 4.Write a recursive Python function to calculate the sum of all elements in a list.\n",
    "# Function to calculate the sum \n",
    "\n",
    "def recursive_sum(lst):\n",
    "    if not lst:\n",
    "        return 0\n",
    "    else:\n",
    "        return lst[0] + recursive_sum(lst[1:])\n",
    "\n",
    "# Number list\n",
    "numbers = [1,2,3,4,5,6,7,8,9]\n",
    "\n",
    "print(recursive_sum(numbers))\n"
   ]
  },
  {
   "cell_type": "code",
   "execution_count": null,
   "id": "0e0ecbf0-4fa4-40d8-9cb7-fc9da4894fbf",
   "metadata": {},
   "outputs": [],
   "source": [
    "# 5.How can you prevent a recursive function from running indefinitely, causing a stack overflow error?\n",
    "To prevent a recursive function from running indefinetly and causing a stack overflow, we can implements the following strategies:\n",
    "\n",
    "Base Case:\n",
    "Ensure that there is a well defined base case in your recursive function. The base case provides a stopping condition for the recursion and should be reached after a finite number of recursive calls. This ensures that the recursion eventually terminates.\n",
    "\n",
    "Ensure Progress:\n",
    "Make sure that the recursive function is designed to make progress towards the base case with each recursive call. This means that the function arguments should be modified in a way that brings it closer to the base case.\n",
    "\n",
    "Use proper input handling:\n",
    "Validates the input to the recursive function to avoid scenarios where it could potentially result in inifinite recursion. Ensure that the input adheres to the expected constraints.\n"
   ]
  },
  {
   "cell_type": "code",
   "execution_count": null,
   "id": "2cd1f4be-2094-4d1e-8abf-f83af6fbd7b8",
   "metadata": {},
   "outputs": [],
   "source": [
    "# 6.Create a recursive Python function to find the greatest common divisor (GCD) of two numbers using the Euclidean algorithm.\n",
    "def gcd (a,b):\n",
    "    if a ==0:\n",
    "        return b\n",
    "    \n",
    "    if b == 0:\n",
    "        return a \n",
    "    \n",
    "    else:\n",
    "        if a < b:\n",
    "            return gcd(a,a%b)\n",
    "        else:\n",
    "            return gcd(b,a%b)\n",
    "print(gcd(99,66))"
   ]
  },
  {
   "cell_type": "code",
   "execution_count": 16,
   "id": "287107bd-9aef-4f7e-9881-32639ca05274",
   "metadata": {},
   "outputs": [
    {
     "name": "stdout",
     "output_type": "stream",
     "text": [
      "tijihbA\n"
     ]
    }
   ],
   "source": [
    "# 7.Write a recursive Python function to reverse a string.\n",
    "def reverse_string(string):\n",
    "    if len(string) ==0:\n",
    "        return string\n",
    "    else :\n",
    "        return string[-1:] + reverse_string(string[0:len(string)-1])\n",
    "    \n",
    "print(reverse_string('Abhijit'))\n"
   ]
  },
  {
   "cell_type": "code",
   "execution_count": null,
   "id": "b8f53332-3ddd-4e77-9c56-432aa2abd7de",
   "metadata": {},
   "outputs": [],
   "source": [
    "# 8.Create a recursive Python function to calculate the power of a number (x^n).\n",
    "def power(x,n):\n",
    "    if n ==0:\n",
    "        return 1\n",
    "    else:\n",
    "        return x * power(x,n-1)\n",
    "\n",
    "print(power(3,4))"
   ]
  },
  {
   "cell_type": "code",
   "execution_count": 14,
   "id": "0940c9fd-aa0f-44e5-9df4-5d6c197e592b",
   "metadata": {},
   "outputs": [
    {
     "name": "stdout",
     "output_type": "stream",
     "text": [
      "['abhi', 'abih', 'ahbi', 'ahib', 'aibh', 'aihb', 'bahi', 'baih', 'bhai', 'bhia', 'biah', 'biha', 'habi', 'haib', 'hbai', 'hbia', 'hiab', 'hiba', 'iabh', 'iahb', 'ibah', 'ibha', 'ihab', 'ihba']\n"
     ]
    }
   ],
   "source": [
    "# 9.Write a recursive Python function to find all permutations of a given string.\n",
    "def permutation(s):\n",
    "    if len(s)<=1 :\n",
    "        return[s]\n",
    "    \n",
    "    permutation_of_str = []\n",
    "    \n",
    "    for i,char in enumerate(s):\n",
    "        remaining_chars = s[:i] + s[i+1:]\n",
    "        sub_perms = permutation(remaining_chars)\n",
    "        \n",
    "        for perm in sub_perms:\n",
    "            permutation_of_str.append(char+perm)\n",
    "            \n",
    "    return permutation_of_str\n",
    "\n",
    "print(permutation('abhi'))"
   ]
  },
  {
   "cell_type": "code",
   "execution_count": 15,
   "id": "1ec73146-041a-4049-8aac-17487087748a",
   "metadata": {},
   "outputs": [
    {
     "name": "stdout",
     "output_type": "stream",
     "text": [
      "True\n"
     ]
    }
   ],
   "source": [
    "# 10.Write a recursive Python function to check if a string is a palindrome.\n",
    "def is_palindrome(string):\n",
    "    if len(string) <=1:\n",
    "        return True\n",
    "    \n",
    "    if string[0] != string[-1]:\n",
    "        return False\n",
    "    \n",
    "    return is_palindrome(string[1:-1])\n",
    "\n",
    "print(is_palindrome('racecar'))"
   ]
  },
  {
   "cell_type": "code",
   "execution_count": 17,
   "id": "a1d9fbe3-34fa-4c4d-ba3a-87bf576636fb",
   "metadata": {},
   "outputs": [
    {
     "name": "stdout",
     "output_type": "stream",
     "text": [
      "[1, 4, 8]\n",
      "[1, 4]\n",
      "[1, 8]\n",
      "[1]\n",
      "[4, 8]\n",
      "[4]\n",
      "[8]\n",
      "[]\n"
     ]
    }
   ],
   "source": [
    "# 11.Create a recursive Python function to generate all possible combinations of a list of elements.\n",
    "def generate_all_combinations(elements):\n",
    "    \n",
    "    if len(elements) == 0:\n",
    "        return [[]]\n",
    "\n",
    "    first_element = elements[0]\n",
    "    remaining_elements = elements[1:]\n",
    "    \n",
    "    \n",
    "    without_first_element = generate_all_combinations(remaining_elements)\n",
    "    \n",
    "    with_first_element = []\n",
    "    \n",
    "    for combination in without_first_element:\n",
    "        with_first_element.append([first_element] + combination)\n",
    "    \n",
    "    return with_first_element + without_first_element\n",
    "\n",
    "result = generate_all_combinations([1,4,8])\n",
    "\n",
    "for combination in result:\n",
    "    print(combination)"
   ]
  },
  {
   "cell_type": "code",
   "execution_count": null,
   "id": "58b80581-7d84-4b87-aba9-071939be2097",
   "metadata": {},
   "outputs": [],
   "source": [
    "# Basics of Functions:\n",
    "# 1.What is a function in Python, and why is it used?\n",
    "A function is a block of organized, reusable code that performs a specific task or set of tasks. It's a named sequence of statements that can be called, or involved as a unit.\n",
    "\n",
    "Functions are a fundamental building block in programming and play a crucial role in code organization, reusability and modularity.\n"
   ]
  },
  {
   "cell_type": "code",
   "execution_count": null,
   "id": "61998775-7091-4b8e-b95c-276db188ea63",
   "metadata": {},
   "outputs": [],
   "source": [
    "# 2.How do you define a function in Python? Provide an example.\n",
    "In Python, we define a function using the def keyword followed by the function name, a pair of parentheses() and a colon. Here is the basic syntax:"
   ]
  },
  {
   "cell_type": "code",
   "execution_count": null,
   "id": "e8a8d8d4-eca5-43d7-b24e-3c8109bd1f21",
   "metadata": {},
   "outputs": [],
   "source": [
    "def function_name(parameters):\n",
    "    # Code for the function\n",
    "    \n",
    "    return result"
   ]
  },
  {
   "cell_type": "code",
   "execution_count": null,
   "id": "3c99a8fb-de84-495b-a48d-9808ddf3fc1e",
   "metadata": {},
   "outputs": [],
   "source": [
    "# Here's an example of simple function that add two numbers:\n",
    "def add_numbers(a,b):\n",
    "    result = a +b\n",
    "    return result\n",
    "\n",
    "add_numbers(6,7)"
   ]
  },
  {
   "cell_type": "code",
   "execution_count": null,
   "id": "35439bbb-5a8a-4773-9d38-9c86b3df9ec9",
   "metadata": {},
   "outputs": [],
   "source": [
    "# 3.Explain the difference between a function definition and a function call.\n",
    "A function definition defines what a function does and its structure using the def keyword.\n",
    "\n",
    "A function call executes the defined function with specified arguments, involving its behavior."
   ]
  },
  {
   "cell_type": "code",
   "execution_count": 18,
   "id": "7605fa88-68d5-45a1-8c5e-0ff80538806f",
   "metadata": {},
   "outputs": [
    {
     "data": {
      "text/plain": [
       "13"
      ]
     },
     "execution_count": 18,
     "metadata": {},
     "output_type": "execute_result"
    }
   ],
   "source": [
    "# 4.Write a Python program that defines a function to calculate the sum of two numbers and then calls the function.\n",
    "## Define a function to calculate the sum of two numbers\n",
    "def add_numbers(a,b):\n",
    "    result = a + b\n",
    "    return result\n",
    "\n",
    "## Calls the function\n",
    "add_numbers(6,7)"
   ]
  },
  {
   "cell_type": "code",
   "execution_count": null,
   "id": "8627def0-80f7-4f10-85b2-5d011ed110a8",
   "metadata": {},
   "outputs": [],
   "source": [
    "# 5.What is a function signature, and what information does it typically include?\n",
    "A function signature is a summary of a function's essential details. It provides information about how the function can be used, what parameters it accepts, and what it returns. A typical function signature includes:\n",
    "\n",
    "Function Name:\n",
    "This is the name used to call the function.\n",
    "\n",
    "Parameters:\n",
    "This section lists the inputs(if any) that the function expects. Each parameter is accompanied by its name and type, and they are typically enclosed in parantheses.\n",
    "\n",
    "Return Types:\n",
    "This indicates the type of value that the function will return after its execution."
   ]
  },
  {
   "cell_type": "code",
   "execution_count": null,
   "id": "fd7ba7e7-0c60-4416-acf4-5af849fe13ed",
   "metadata": {},
   "outputs": [],
   "source": [
    "# 6.Create a Python function that takes two arguments and returns their product.\n",
    "## Function to multiply two products \n",
    "def multiply_numbers(a,b):\n",
    "    return a *b\n",
    "\n",
    "multiply_numbers(5,10)"
   ]
  },
  {
   "cell_type": "code",
   "execution_count": null,
   "id": "fb64a089-3fc7-43ac-bfb4-904441be33a0",
   "metadata": {},
   "outputs": [],
   "source": [
    "# Function Parameters and Arguments:\n",
    "1.Explain the concepts of formal parameters and actual arguments in Python functions.\n",
    "Formal Parameters\n",
    "These are variables listed in the function definition that acts as placeholder for the values that will be passed into the function when it's called. They are like variables defined within the function's scope and represent the input data the function will work with.\n",
    "\n",
    "Example:"
   ]
  },
  {
   "cell_type": "code",
   "execution_count": null,
   "id": "349d5246-0b08-4dd4-87f7-4d9d4eb6c16d",
   "metadata": {},
   "outputs": [],
   "source": [
    "def add(a,b):\n",
    "    return a+b"
   ]
  },
  {
   "cell_type": "code",
   "execution_count": null,
   "id": "ef41f64a-6777-48b2-8f51-81d7a2f183c5",
   "metadata": {},
   "outputs": [],
   "source": [
    "Actual Arguments:\n",
    "These are the values or expressions that are passed to the fuction when it is called. They correspond to the formal parameters defined in the function's signature and provide the actual data that the function will operate on.\n",
    "\n",
    "Example:"
   ]
  },
  {
   "cell_type": "code",
   "execution_count": null,
   "id": "cc73da05-5a88-49ba-aafd-91ca61ac5c85",
   "metadata": {},
   "outputs": [],
   "source": [
    "result = add(6,7)"
   ]
  },
  {
   "cell_type": "code",
   "execution_count": 21,
   "id": "f3e66416-5484-46dc-9f50-bf76279a5ec5",
   "metadata": {},
   "outputs": [
    {
     "name": "stdout",
     "output_type": "stream",
     "text": [
      "Default Value used area : 1\n",
      "Area : 15\n"
     ]
    }
   ],
   "source": [
    "# In the example above a and b in the function definition are formal parameters, while 6 and 7 in the function call are acutal arguments. The function will use these actual arguments to perform it's operation.\n",
    "\n",
    "#  2.Write a Python program that defines a function with default argument values.\n",
    "\n",
    "def calculate_rectangle_area(length =1, width = 1):\n",
    "    area = length * width\n",
    "    return area\n",
    "\n",
    "# Compute area\n",
    "default_rect_area = calculate_rectangle_area()\n",
    "area1 = calculate_rectangle_area(5,3)\n",
    "\n",
    "print(f'Default Value used area : {default_rect_area}')\n",
    "print(f'Area : {area1}')"
   ]
  },
  {
   "cell_type": "code",
   "execution_count": 22,
   "id": "65b8b3e3-8735-4733-96c9-f367611284ad",
   "metadata": {},
   "outputs": [],
   "source": [
    "# 3.How do you use keyword arguments in Python function calls? Provide an example.\n",
    "# Keyword arguments also known as named arguments, are values passed into a function that can be recognized by their corresponding parameter names. They are indicated by placing the parameter name followed by an equal sign(=) before the value operator.\n",
    "\n",
    "# Certainly, Let's consider a function that calculates the area of a rectangle:\n",
    "\n",
    "def calculate_rectangle_area(length, width):\n",
    "    \n",
    "    area = length * width\n",
    "    return area\n"
   ]
  },
  {
   "cell_type": "code",
   "execution_count": 23,
   "id": "3fdddfdc-4f14-498d-830d-8e0a273f5149",
   "metadata": {},
   "outputs": [
    {
     "name": "stdout",
     "output_type": "stream",
     "text": [
      "Area1 : 15\n",
      "Area2 : 12\n"
     ]
    }
   ],
   "source": [
    "# Now, we can use keyword arguments to call this function:\n",
    "\n",
    "# Using keyword arguments\n",
    "area1 = calculate_rectangle_area(length=3, width=5)\n",
    "area2 = calculate_rectangle_area(width=4,length=3)\n",
    "\n",
    "print(f'Area1 : {area1}')\n",
    "print(f'Area2 : {area2}')"
   ]
  },
  {
   "cell_type": "code",
   "execution_count": 24,
   "id": "0fbfef29-5d79-4fbf-a5c3-203da30ff455",
   "metadata": {},
   "outputs": [
    {
     "name": "stdout",
     "output_type": "stream",
     "text": [
      "Result1 : 10\n",
      "Result2 : 21\n"
     ]
    }
   ],
   "source": [
    "# 4.Create a Python function that accepts a variable number of arguments and calculates their sum.\n",
    "def compute_sum(*args):\n",
    "    total_sum = 0\n",
    "    for num in args:\n",
    "        total_sum += num\n",
    "    return total_sum\n",
    "\n",
    "# Compute sum\n",
    "result1 = compute_sum(1,2,3,4)\n",
    "result2 = compute_sum(1,2,3,4,5,6)\n",
    "\n",
    "print(f'Result1 : {result1}')\n",
    "print(f'Result2 : {result2}')"
   ]
  },
  {
   "cell_type": "code",
   "execution_count": null,
   "id": "b02a218f-2acf-4a59-8dd8-15a0f849c20c",
   "metadata": {},
   "outputs": [],
   "source": [
    "# 5.What is the purpose of the *args and **kwargs syntax in function parameter lists?\n",
    "The *args and **kwargs syntax in function parameter lists serve the purpose of allowing python functions to accept a variable number of argumennts, both positional and keyword arguments respectively. They provide flexibility and versality when defining functions. Here's what each syntax does:\n",
    "\n",
    "*args (Arbitary Positional Arguments):\n",
    "\n",
    "*args is used to collect any number of positional arguments into a tuple.\n",
    "It allows you to pass an arbitary number of positional arguments to the function.\n",
    "The args variable can be any name you choose, but *args is a common convention.\n",
    "You can think of *args is a way to pass multiple values to the function without having to specify each argument individually.\n",
    "Example of *args:"
   ]
  },
  {
   "cell_type": "code",
   "execution_count": 28,
   "id": "31094945-5164-4728-af1f-b3a89274671d",
   "metadata": {},
   "outputs": [],
   "source": [
    "def compute_sum(*args):\n",
    "    total_sum = 0\n",
    "    for num in args:\n",
    "        total_sum += num\n",
    "    return total_sum\n",
    "\n",
    "# Compute sum\n",
    "result1 = compute_sum(1,2,3,4)"
   ]
  },
  {
   "cell_type": "code",
   "execution_count": null,
   "id": "0032d691-5c8a-4098-af50-caf9eb965c79",
   "metadata": {},
   "outputs": [],
   "source": [
    "**kwargs is used to collect any number of keyword arguments into a dictionary.\n",
    "It allows you to pass an arbitary number of keyword arguments to the fuction.\n",
    "The kwargs variable can be any name you choose, but **kwargs is a common convention.\n",
    "You can think of **kwargs as a way to pass multiple keyword-value pairs to a function without having to specify each pair individually.\n",
    "Example of **kwargs:"
   ]
  },
  {
   "cell_type": "code",
   "execution_count": 30,
   "id": "1d17ce75-a1ba-455e-b146-e6a41ea8975e",
   "metadata": {},
   "outputs": [
    {
     "name": "stdout",
     "output_type": "stream",
     "text": [
      "name : Abhijit\n",
      "city : Kolkata\n",
      "occupation : Civil Engineer\n"
     ]
    }
   ],
   "source": [
    "def print_key_value_details(**kwargs):\n",
    "    for key, value in kwargs.items():\n",
    "        print(f'{key} : {value}')\n",
    "        \n",
    "print_key_value_details(name='Abhijit',city='Kolkata',occupation = 'Civil Engineer')"
   ]
  },
  {
   "cell_type": "code",
   "execution_count": null,
   "id": "b13ccb62-2ff7-4f81-a518-037c3fc8a187",
   "metadata": {},
   "outputs": [],
   "source": [
    "# Return Values and Scoping:\n",
    "1.Describe the role of the return statement in Python functions and provide examples.\n",
    "The return statement in python functions is used to specify the value or values that the function should send back to the caller. It marks the end of the functions execution. Here are some examples:\n",
    "\n",
    "Examples of returning a single value:"
   ]
  },
  {
   "cell_type": "code",
   "execution_count": null,
   "id": "573a9665-8f2e-4c33-90e7-d7c89ced92e5",
   "metadata": {},
   "outputs": [],
   "source": [
    "def add(a,b):\n",
    "    return a + b"
   ]
  },
  {
   "cell_type": "code",
   "execution_count": 33,
   "id": "db9ea2de-f0a5-4da3-b62d-1850ea493ac9",
   "metadata": {},
   "outputs": [],
   "source": [
    "# Example of reutrning multiple values as a tuple:\n",
    "\n",
    "def calculate_stats(numbers):\n",
    "    total = sum(numbers)\n",
    "    avg = total/len(numbers)\n",
    "    \n",
    "    return total, avg"
   ]
  },
  {
   "cell_type": "code",
   "execution_count": 32,
   "id": "8f2cf01f-1b7d-4125-ad86-50556f376113",
   "metadata": {},
   "outputs": [],
   "source": [
    "# Example of No return statement (implicity returns None):\n",
    "\n",
    "def say_hello(name):\n",
    "    print(f'Hello , {name}')\n",
    "# The return statement is crucial for functions that provides results, allowing you to capture and use those results in your code."
   ]
  },
  {
   "cell_type": "code",
   "execution_count": null,
   "id": "cc0de5c2-e0b3-4f88-9523-45eaa25ce03d",
   "metadata": {},
   "outputs": [],
   "source": [
    "# 2.Explain the concept of variable scope in Python, including local and global variables.\n",
    "Variable scope in python refers to where in your code a variable is visible and can be accessed:\n",
    "\n",
    "Local Variables:\n",
    "These are defined within a function and are only accessible within that function. They have local scope.\n",
    "\n",
    "Global variables:\n",
    "Theses are defined outside of any function and are accessible throughout the entire program. They have global scope.\n",
    "\n",
    "Local variables take precedence over global variables with the same name when accessed within a function. Global variables can be accessed from within functions, but you need to use the global keyword to modify them.\n",
    "\n",
    "Example:"
   ]
  },
  {
   "cell_type": "code",
   "execution_count": 34,
   "id": "eb40f3c8-8782-447d-9e44-f1333dc5b6ab",
   "metadata": {},
   "outputs": [
    {
     "name": "stdout",
     "output_type": "stream",
     "text": [
      "5\n",
      "10\n",
      "10\n"
     ]
    }
   ],
   "source": [
    "## Global variable\n",
    "global_var = 10\n",
    "\n",
    "def  my_function():\n",
    "    #local variable\n",
    "    local_var = 5\n",
    "    print(local_var)\n",
    "    print(global_var)\n",
    "\n",
    "my_function()\n",
    "\n",
    "print(global_var)"
   ]
  },
  {
   "cell_type": "code",
   "execution_count": null,
   "id": "87297263-4793-4f6c-9bfb-7dfbe6d850ca",
   "metadata": {},
   "outputs": [],
   "source": [
    "# 3.Write a Python program that demonstrates the use of global variables within functions.\n",
    "# Global variable \n",
    "global_variable = 10\n",
    "\n",
    "def increment_global():\n",
    "    global global_variable\n",
    "    global_variable+=1\n",
    "    \n",
    "def print_global():\n",
    "    print(f'Global Variable value = {global_variable}')\n",
    "    \n",
    "print('Initial Value')\n",
    "\n",
    "print_global()\n",
    "\n",
    "increment_global()\n",
    "\n",
    "print('After increment')\n",
    "\n",
    "print_global()"
   ]
  },
  {
   "cell_type": "code",
   "execution_count": 35,
   "id": "3639ab18-e775-4f90-920c-66796bf359a8",
   "metadata": {},
   "outputs": [
    {
     "name": "stdout",
     "output_type": "stream",
     "text": [
      "Factorial of 5 is 120\n"
     ]
    }
   ],
   "source": [
    "# 4.Create a Python function that calculates the factorial of a number and returns it.\n",
    "## function to calculate factorial\n",
    "def get_factorial(n):\n",
    "    if n==1:\n",
    "        return 1\n",
    "    else:\n",
    "        return n* get_factorial(n-1)\n",
    "\n",
    "number = 5\n",
    "\n",
    "print(f'Factorial of {number} is {get_factorial(number)}')"
   ]
  },
  {
   "cell_type": "code",
   "execution_count": null,
   "id": "f4db580b-f15c-4653-8ec5-ab6fce9ad065",
   "metadata": {},
   "outputs": [],
   "source": [
    "# 5.How can you access variables defined outside a function from within the function?\n",
    "\n",
    "# Direct Access : Variables defined outside a function are considered global variables and can be accessed directly within the function without any special keyword.\n",
    "global_var = 10\n",
    "\n",
    "def access_global_variable():\n",
    "    print(global_var)\n",
    "\n",
    "access_global_variable()"
   ]
  },
  {
   "cell_type": "code",
   "execution_count": null,
   "id": "5b8df5ee-4103-403c-943c-fd430d5b3c00",
   "metadata": {},
   "outputs": [],
   "source": [
    "# Using the global keyword(for modification) : If you want to modify a global variabe from within a function, you need to use the global keyword to indicate that you are referring to the global variable, not creating a new local variable with the same name.\n",
    "global_var = 10\n",
    "\n",
    "def modify_global():\n",
    "    global global_var \n",
    "    global_var =20\n",
    "\n",
    "modify_global()\n",
    "# By default, python allows you to access global variables within the functions, but if you intend to modify them, you need to use the global keyword to indicate your intention to work with the global variable."
   ]
  },
  {
   "cell_type": "code",
   "execution_count": null,
   "id": "7f4bf98b-d1b1-495e-a0d1-fe714484e13e",
   "metadata": {},
   "outputs": [],
   "source": [
    "Lambda Functions and Higher-Order Functions:"
   ]
  },
  {
   "cell_type": "code",
   "execution_count": null,
   "id": "ffe29d81-3d5c-4040-bb39-a95d123d2869",
   "metadata": {},
   "outputs": [],
   "source": [
    "# 1.What are lambda functions in Python, and when are they typically used?\n",
    "Lambda functions also known as anonymous function are small, nameless functions in python. They are defined using the lambda keyword and are typically used for short, simple operations where creating a named function would by overkill.\n",
    "\n",
    "Here's the basic syntax of a lambda function: lambda arguments : expression\n",
    "\n",
    "Here's an example of lambda function that calculates the square of a number:"
   ]
  },
  {
   "cell_type": "code",
   "execution_count": null,
   "id": "8b1ec9d3-b056-4b70-95d8-7f9e02d9d5eb",
   "metadata": {},
   "outputs": [],
   "source": [
    "square = lambda x : x**2\n",
    "result = square(5)\n",
    "\n",
    "result"
   ]
  },
  {
   "cell_type": "code",
   "execution_count": null,
   "id": "ec4d0d3c-1bf9-403b-a0f4-20b63f843aa2",
   "metadata": {},
   "outputs": [],
   "source": [
    "# 2.Write a Python program that uses lambda functions to sort a list of tuples based on the second element.\n",
    "## List of tuples\n",
    "list_of_tuples = [(231,50),(1,2),(8,5),(6,7)]\n",
    "\n",
    "sorted_list_of_tuples = sorted(list_of_tuples, key = lambda x : x[1])\n",
    "\n",
    "print(sorted_list_of_tuples)"
   ]
  },
  {
   "cell_type": "code",
   "execution_count": null,
   "id": "1da45f17-4cae-4161-a844-8dd21affa57b",
   "metadata": {},
   "outputs": [],
   "source": [
    "# 3.Explain the concept of higher-order functions in Python, and provide an example.\n",
    " Higher-order functions in python are functions that can take other functions as arguments, return functions as results or both. Essentially, they treat functions as first class citizens, allowing you to manipulate and work with functions in the same way you would with other data types like integers or strings. This concept is closely related to functional programming.\n",
    "\n",
    "Here's an example of a higher-order function:\n",
    "\n",
    "def apply_operation(func,x,y):\n",
    "\n",
    "\"\"\"This higher-order function applies a given function 'func' to 'x' and 'y'. \"\"\"\n",
    "return func(x,y)\n",
    "Define some simple functions to be used with apply_operation\n",
    "def add(a,b): return a+b\n",
    "\n",
    "def subtract(a,b): return a-b\n",
    "\n",
    "Using apply_operation with different functions\n",
    "result1 = apply_operation(add,5,3)\n",
    "\n",
    "result2 = apply_operation(subtract, 5,3)\n",
    "\n",
    "result3 = apply_operation (multiply, 10,4)\n",
    "\n",
    "In this example, apply_operation is a higher order function that takes another function(func) along with two arguments(x and y) and applies func to x and y. We then define three functions (add, subtract, multiply) that can be passed to apply_operation. Depending on which function is passed, it performs different operations.\n",
    "\n",
    "Higher-order functions are powerful because they allow you to write more generic and reusable code, enabling you to abstract away repetitive patterns and promote code modularity. They are commonly used in functional programming paradigms and are essential concept in languages like Python."
   ]
  },
  {
   "cell_type": "code",
   "execution_count": 36,
   "id": "f331095b-a9a3-4f72-a135-0017528b4a08",
   "metadata": {},
   "outputs": [
    {
     "name": "stdout",
     "output_type": "stream",
     "text": [
      "[1, 4, 9, 16, 25, 36, 49, 64, 81]\n",
      "[2, 4, 6, 8, 10, 12, 14, 16, 18]\n"
     ]
    }
   ],
   "source": [
    "# 4.Create a Python function that takes a list of numbers and a function as arguments, applying the function to each element in the list.\n",
    "def apply_function_to_list(func, num_list):\n",
    "    \"\"\"Applies the given function to each element in the list and returns the result.\"\"\"\n",
    "    result = []\n",
    "    for num in num_list:\n",
    "        result.append(func(num))\n",
    "    return result\n",
    "\n",
    "def square(x):\n",
    "    return x*x\n",
    "def double(x):\n",
    "    return x*2\n",
    "\n",
    "# Number list assumption\n",
    "number = [1,2,3,4,5,6,7,8,9]\n",
    "\n",
    "## Apply square function\n",
    "square_list = apply_function_to_list(square,number)\n",
    "print(square_list)\n",
    "\n",
    "## Apply double function\n",
    "double_list = apply_function_to_list(double,number)\n",
    "print(double_list)"
   ]
  },
  {
   "cell_type": "code",
   "execution_count": null,
   "id": "c994e79e-927d-4aa8-9535-1a445185e01e",
   "metadata": {},
   "outputs": [],
   "source": []
  },
  {
   "cell_type": "code",
   "execution_count": null,
   "id": "3ed0f56c-7cc9-4b95-b15e-e2727d1d1a3d",
   "metadata": {},
   "outputs": [],
   "source": [
    "Built-in Functions:\n",
    "1.Describe the role of built-in functions like len(), max(), and min() in Python.\n",
    "Built-in functions like len(), max() and min() in python serves specific roles in working with data and collections:\n",
    "\n",
    "len():\n",
    "\n",
    "Role: Returns the number of items in a collection such as list,tuple,string or dictionary. Example:\n",
    "\n",
    "my_list = [1,2,3,4,5]\n",
    "length = len(my_list)\n",
    "max():\n",
    "\n",
    "Role: Returns the largest item in a iterable or among multiple arguments. Example:\n",
    "\n",
    "numbers = [1,5,2,7,3]\n",
    "max_value = max(numbers)\n",
    "min():\n",
    "\n",
    "Role: Returns the smallest item in a iterable or among multiple arguments. Example:\n",
    "\n",
    "numbers = [1,2,3,4,5]\n",
    "min_value = min(numbers)\n",
    "These built-in functions are useful for common tasks when working with data. len() is handy for finding the size of collections, while max() and min() help in identifying the largest and smallest values within data sets. They are part of Python's standard library and can simply coding when dealing with these specific operations."
   ]
  },
  {
   "cell_type": "code",
   "execution_count": null,
   "id": "e2d4b85a-ecab-42d7-acdd-4b74860a2006",
   "metadata": {},
   "outputs": [],
   "source": [
    "# 2.Write a Python program that uses the map() function to apply a function to each element of a list.\n",
    "def square(x):\n",
    "    return x*x\n",
    "\n",
    "list_of_numbers = [1,2,3,4,5,6]\n",
    "\n",
    "map_list = list(map(square,list_of_numbers))\n",
    "\n",
    "print(map_list)"
   ]
  },
  {
   "cell_type": "code",
   "execution_count": null,
   "id": "32ff0425-2766-4619-a2df-4a5e15a163c3",
   "metadata": {},
   "outputs": [],
   "source": [
    "3.How does the filter() function work in Python, and when would you use it?\n",
    "The filter() function in Python is used to selectively extract elements from an iterable (like a list) based on specific condition. It takes two arguments: a function and an iterable.\n",
    "\n",
    "Here's how it works:\n",
    "\n",
    "Function:\n",
    "The first argument(function) is a function that returns a boolean value(True or False). This function is applied to each element in the iterable.\n",
    "\n",
    "Iterable:\n",
    "The second argument(iterable) is the sequence of elements from which you want to filter.\n",
    "\n",
    "The filter() function that returns an iterator containing the elements for which the conditions in the function evaluates to True.\n",
    "\n",
    "When would you use it ?\n",
    "The filter() function is useful when you need to extract specific elements from a collection based on a condition, making it a powerfult tool for data filtering and processing. In other words, filter() function is used when you need to selectively extract elements from an iterable based on a specific condition.\n",
    "\n",
    "For example:"
   ]
  },
  {
   "cell_type": "code",
   "execution_count": null,
   "id": "4ca383a9-373c-4f72-bc70-b4b0d4b0625b",
   "metadata": {},
   "outputs": [],
   "source": [
    "def is_positive(num):\n",
    "    return num >0\n",
    "\n",
    "numbers = [-2,-1,0,1,2,3,4]\n",
    "\n",
    "positive_number = list(filter(is_positive,numbers))\n",
    "\n",
    "print(positive_number)"
   ]
  },
  {
   "cell_type": "code",
   "execution_count": 37,
   "id": "4f834240-bf6f-42b4-b91b-a1053e1ad10e",
   "metadata": {},
   "outputs": [
    {
     "name": "stdout",
     "output_type": "stream",
     "text": [
      "The product of [1, 2, 3, 4, 5] is : 120\n"
     ]
    }
   ],
   "source": [
    "# 4.Create a Python program that uses the reduce() function to find the product of all elements in a list.\n",
    "from functools import reduce\n",
    "\n",
    "def multiply(x,y):\n",
    "    return x*y\n",
    "\n",
    "numbers = [1,2,3,4,5]\n",
    "\n",
    "product  = reduce(multiply,numbers)\n",
    "\n",
    "print(f'The product of {numbers} is : {product}')"
   ]
  },
  {
   "cell_type": "code",
   "execution_count": null,
   "id": "de649dd5-1b30-4844-8341-e37067b29b2b",
   "metadata": {},
   "outputs": [],
   "source": [
    "Function Documentation and Best Practices:\n",
    "1.Explain the purpose of docstrings in Python functions and how to write them.\n",
    "Docstrings in Python are special strings used to document functions, modules and classes. They serve as a form of inline documentation to describe what a piece of code does, what parameters it accepts, and what it returns.\n",
    "\n",
    "To write a docstring, you enclose the description in triple quotes (''' or \"\"\") and places it as the first statement within a function, module or class.\n",
    "\n",
    "Here's an example of a function with a docstring:"
   ]
  },
  {
   "cell_type": "code",
   "execution_count": null,
   "id": "4b028e96-daae-4884-b58c-c3f1446b979e",
   "metadata": {},
   "outputs": [],
   "source": [
    "def calculate_average(numbers):\n",
    "    \"\"\"\n",
    "    Calculates the average of a list of numbers.\n",
    "    \n",
    "    Args:\n",
    "        numbers(list): A list of numberical values.\n",
    "    \n",
    "    Returns:\n",
    "        float : The average of the input numbers.\n",
    "        \n",
    "    Example:\n",
    "            >>>> calculate_average([1,2,3,4,5]) \n",
    "            3.0\n",
    "    \"\"\"\n",
    "    if not numbers:\n",
    "        return 0\n",
    "    return sum(numbers)/len(numbers)"
   ]
  },
  {
   "cell_type": "code",
   "execution_count": null,
   "id": "17f8ff3a-5360-4380-9274-82d785b98ad9",
   "metadata": {},
   "outputs": [],
   "source": [
    "Explanation:\n",
    "The docstring begins and ends with triple quotes, providing a clear visual indicator.\n",
    "\n",
    "It includes a brief description of what the function does.\n",
    "\n",
    "The \"Parameters\" section describes the input(s) the function expects, along with their types and any additional information.\n",
    "\n",
    "The \"Returns\" section explians what the function will returnm including the type of return value.\n",
    "\n",
    "Docstrings are important for maintaining well-documented code. They make it easier for other developers( and yourself in the future) to understand and use your code. Additionally, tools like IDEs, documentation generators and linters can use docstring to provide helpful information and perform static code analysis."
   ]
  },
  {
   "cell_type": "code",
   "execution_count": null,
   "id": "2719dee1-59e1-4e30-9fc4-e5bd0d9861b2",
   "metadata": {},
   "outputs": [],
   "source": [
    "2.Describe some best practices for naming functions and variables in Python, including naming conventions and guidelines.\n",
    "Here are some best practices for naming functions and variables in Python:\n",
    "\n",
    "1. Keep Names Concise but Informative:\n",
    "Names should be short enough to be easily typed and read, but long enough to convey their purpose.\n",
    "\n",
    "2. Avoid Ambiguos Names:\n",
    "Names should be specific and clear, avoiding any ambiguity about their purpose or usage.\n",
    "\n",
    "3. Use Singular Nouns for Variable:\n",
    "Variables names should typically represent a single item, so using singular nouns is usually more appropriate than plural nouns.\n",
    "\n",
    "4. Use Plural Nouns for Collection:\n",
    "When naming variables that represent collections or sequences of items, use plural nouns. For example, students, anmials.\n",
    "\n",
    "5. Avoid Using Built-in Names:\n",
    "Avoid using names of built-in functions, modules or keywords for you own variables or function.\n",
    "\n",
    "6. Prefix Names for Specific Contexts:\n",
    "If a variable or function is context-specific, consider adding a prefix to indicate its purpose. For example, user_name or calculation_results.\n",
    "\n",
    "7. Be Mindful of Case Sensitivity:\n",
    "Remember that Python is case sensitive. my_variable or My_Variable would be considered as two different variables.\n",
    "\n",
    "8. Use Verb-Noun Pairings for Functions:\n",
    "Start function names with a verb that describes the action it performs, followed by noun representing the target or subject of the action.\n",
    "\n",
    "9. Avoid using single underscores as perfix:\n",
    "In general, a single underscore at the beginning of a name is used to indicate that a variable or function is intended for internal use within a module.\n",
    "\n",
    "10. Use double underscores for special methods:\n",
    "In classes, names with double underscores have special meanings in Python and should be used for specific purposes like constructor and operator overloading.\n",
    "\n",
    "11. Be consistent:\n",
    "Maintain consistent naming conventions throughout your codebases to ensure readability and reduce cognitive load.\n",
    "\n",
    "12. Avoid Using Confusing Names:\n",
    "Avoid using names that are easily confused with other common terms or conventions.\n",
    "\n",
    "By following these best practices, you can create code that is more readablem maintainable and easier to work with for both yourself and other developers."
   ]
  },
  {
   "cell_type": "code",
   "execution_count": null,
   "id": "48aecefd-b945-4f97-8bf9-4437f12b6641",
   "metadata": {},
   "outputs": [],
   "source": []
  },
  {
   "cell_type": "code",
   "execution_count": null,
   "id": "e35e82f8-30f5-46b6-8a8b-d48c9c2be5bd",
   "metadata": {},
   "outputs": [],
   "source": []
  },
  {
   "cell_type": "code",
   "execution_count": null,
   "id": "b4371d78-3484-4af0-b4fd-c5f884de399d",
   "metadata": {},
   "outputs": [],
   "source": []
  },
  {
   "cell_type": "code",
   "execution_count": null,
   "id": "81c9d331-5a82-4f17-a025-f574a4d66d9e",
   "metadata": {},
   "outputs": [],
   "source": []
  },
  {
   "cell_type": "code",
   "execution_count": null,
   "id": "ee8afc0f-df60-4511-953f-326d5bf380aa",
   "metadata": {},
   "outputs": [],
   "source": []
  },
  {
   "cell_type": "code",
   "execution_count": null,
   "id": "f728f938-2040-4edc-9ec6-5a9b02ef9f34",
   "metadata": {},
   "outputs": [],
   "source": []
  }
 ],
 "metadata": {
  "kernelspec": {
   "display_name": "Python 3 (ipykernel)",
   "language": "python",
   "name": "python3"
  },
  "language_info": {
   "codemirror_mode": {
    "name": "ipython",
    "version": 3
   },
   "file_extension": ".py",
   "mimetype": "text/x-python",
   "name": "python",
   "nbconvert_exporter": "python",
   "pygments_lexer": "ipython3",
   "version": "3.10.8"
  }
 },
 "nbformat": 4,
 "nbformat_minor": 5
}
